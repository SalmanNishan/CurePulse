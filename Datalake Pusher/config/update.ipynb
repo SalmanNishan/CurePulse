{
 "cells": [
  {
   "cell_type": "markdown",
   "metadata": {},
   "source": [
    "### Update Client Facing Team"
   ]
  },
  {
   "cell_type": "code",
   "execution_count": 1,
   "metadata": {},
   "outputs": [
    {
     "name": "stdout",
     "output_type": "stream",
     "text": [
      "{'liam.walker': ['frank.alven', 'fred.allen', 'gary.gatland', 'dave.arnold', 'imran.hussain'], 'wayne.reid': ['frank.alven', 'gary.gatland', 'emmet.zachary', 'imran.hussain'], 'leo.hudson': ['frank.alven', 'gary.gatland', 'emmet.zachary', 'imran.hussain'], 'damien.sanders': ['frank.alven', 'gary.gatland', 'emmet.zachary', 'imran.hussain'], 'david.webb': ['frank.alven', 'gary.gatland', 'emmet.zachary', 'imran.hussain'], 'drew.morris': ['frank.alven', 'gary.gatland', 'emmet.zachary', 'imran.hussain'], 'daniel.watson': ['frank.alven', 'gary.gatland', 'emmet.zachary', 'imran.hussain'], 'paul.baker': ['frank.alven', 'gary.gatland', 'emmet.zachary', 'imran.hussain'], 'ted.mills': ['frank.alven', 'gary.gatland', 'emmet.zachary', 'imran.hussain'], 'kyle.bates': ['frank.alven', 'gary.gatland', 'emmet.zachary', 'imran.hussain'], 'gary.gatland': ['frank.alven', 'gary.gatland', 'imran.hussain'], 'bill.vance': ['frank.alven', 'imran.hussain'], 'alex.walker': ['frank.alven', 'gary.gatland', 'imran.hussain'], 'henry.adams': ['frank.alven', 'gary.gatland', 'henry.adams', 'imran.hussain'], 'fred.allen': ['frank.alven', 'fred.allen', 'gary.gatland', 'imran.hussain'], 'max.gayle': ['frank.alven', 'gary.gatland', 'max.gayle', 'imran.hussain'], 'gavin.jones': ['frank.alven', 'fred.allen', 'gary.gatland', 'imran.hussain'], 'dave.arnold': ['frank.alven', 'fred.allen', 'gary.gatland', 'dave.arnold', 'imran.hussain'], 'jerry.green': ['frank.alven', 'fred.allen', 'gary.gatland', 'imran.hussain'], 'dennis.wood': ['frank.alven', 'fred.allen', 'gary.gatland', 'imran.hussain'], 'emmet.zachary': ['frank.alven', 'gary.gatland', 'emmet.zachary', 'imran.hussain'], 'mark.davis': ['frank.alven', 'gary.gatland', 'henry.adams', 'imran.hussain'], 'arthur.cook': ['frank.alven', 'gary.gatland', 'max.gayle', 'imran.hussain'], 'jake.hill': ['gary.gatland', 'henry.adams'], 'dylan.rogers': ['gary.gatland'], 'edward.fisher': ['edward.fisher', 'nick.persky'], 'andy.turner': ['edward.fisher', 'nick.persky', 'imran.hussain'], 'lee.baker': ['edward.fisher', 'nick.persky', 'imran.hussain'], 'niven.cyril': ['edward.fisher', 'nick.persky', 'imran.hussain'], 'adam.cook': ['edward.fisher', 'nick.persky', 'imran.hussain'], 'steve.andrews': ['edward.fisher', 'nick.persky', 'imran.hussain'], 'brad.collins': ['brad.collins'], 'peter.moore': ['brad.collins', 'peter.moore'], 'josh.greene': ['brad.collins', 'peter.moore'], 'colin.nelson': ['brad.collins', 'peter.moore'], 'michael.baker': ['brad.collins', 'peter.moore'], 'neil.banks': ['brad.collins', 'peter.moore'], 'harry.sanders': ['brad.collins', 'peter.moore'], 'ryan.keller': ['brad.collins', 'peter.moore'], 'samuel.gill': ['brad.collins', 'peter.moore'], 'shane.newman': ['brad.collins', 'peter.moore'], 'claire.mills': ['brad.collins', 'peter.moore'], 'brian.shaw': ['brad.collins', 'peter.moore'], 'zoe.morris': ['brad.collins', 'peter.moore'], 'craig.stewart': ['craig.stewart', 'craig.stewart', 'sean.bailey'], 'sean.bailey': ['craig.stewart', 'sean.bailey'], 'finn.adams': ['craig.stewart', 'sean.bailey', 'jack.ward'], 'dan.mason': ['craig.stewart', 'sean.bailey', 'jack.ward'], 'william.young': ['craig.stewart', 'sean.bailey', 'jack.ward'], 'terry.miller': ['craig.stewart', 'sean.bailey', 'mack.orlin'], 'mack.orlin': ['craig.stewart', 'sean.bailey', 'mack.orlin'], 'brent.jones': ['craig.stewart', 'sean.bailey'], 'tim.reed': ['craig.stewart', 'sean.bailey'], 'jack.ward': ['craig.stewart', 'sean.bailey', 'jack.ward'], 'alan.ford': ['alan.ford'], 'ben.fisher': ['alan.ford', 'ben.fisher'], 'tyler.cook': ['alan.ford', 'ben.fisher'], 'jeff.smith': ['alan.ford', 'ben.fisher'], 'dale.thomas': ['alan.ford', 'ben.fisher'], 'troy.mason': ['alan.ford', 'ben.fisher'], 'brett.daniels': ['brett.daniels'], 'glen.magro': ['brett.daniels', 'imran.hussain'], 'jared.holmes': ['brett.daniels', 'imran.hussain'], 'justin.smith': ['brett.daniels', 'imran.hussain'], 'maria.davis': ['brett.daniels', 'imran.hussain'], 'joe.myers': ['brett.daniels', 'imran.hussain'], 'thomas.reed': ['brett.daniels', 'imran.hussain'], 'ethan.rogers': ['brett.daniels', 'imran.hussain'], 'stuart.jones': ['brett.daniels', 'imran.hussain'], 'luke.parson': ['brett.daniels', 'imran.hussain'], 'pete.rogers': ['brett.daniels', 'imran.hussain'], 'phil.becker': ['brett.daniels', 'imran.hussain'], 'christy.wilson': ['brett.daniels', 'imran.hussain'], 'blake.wright': ['blake.wright'], 'patrick.baker': ['blake.wright'], 'owen.adams': ['blake.wright'], 'chris.wood': ['blake.wright'], 'marcus.reed': ['blake.wright'], 'simon.lee': ['blake.wright'], 'rex.larson': ['blake.wright'], 'jeremy.smith': ['blake.wright'], 'john.green': ['nick.persky'], 'haysam.wyne': ['nick.persky'], 'nate.miller': ['nick.persky'], 'eric.baker': ['nick.persky'], 'bruce.simmons': ['bruce.simmons'], 'josh.segal': ['bruce.simmons'], 'nathan.miller': ['bruce.simmons'], 'richard.barr': ['bruce.simmons'], 'reese.smith': ['craig.stewart'], 'grant.reed': ['craig.stewart'], 'ethan.reynolds': ['ben.fisher'], 'adam.parker': ['brad.collins'], 'jared.wilson': ['brad.collins'], 'luke.harrison': ['brad.collins'], 'jasper.smith': ['robert.freeman'], 'travis.walker': ['robert.freeman'], 'ashley.taylor': ['robert.freeman'], 'wendy.harrison': ['blake.wright'], 'seth.jones': ['gary.gatland'], 'scott.zane': ['gary.gatland'], 'jay.nelson': ['gary.gatland'], 'tom.anderson': ['gary.gatland'], 'michael.foster': ['gary.gatland'], 'jake.turner': ['edward.fisher'], 'rachel.johnson': ['aaron.smith', 'mick.adams'], 'glen.lawson': ['nick.persky'], 'dean.turner': ['nick.persky'], 'spencer.hayes': ['nick.persky'], 'owen.mitchell': ['nick.persky'], 'mark.weller': ['aaron.smith', 'mick.adams'], 'joss.taylor': ['craig.stewart', 'jack.ward', 'sean.bailey']}\n"
     ]
    }
   ],
   "source": [
    "import json\n",
    "\n",
    "def add_name_instance_to_json(file_path, username, managers):\n",
    "    # Read the existing JSON file\n",
    "    with open(file_path, 'r') as file:\n",
    "        data = json.load(file)\n",
    "\n",
    "    # Add the new instance at the end with \"name\" key\n",
    "    # name_instance = {username: managers}\n",
    "    # if isinstance(data, list):\n",
    "    #     # If the JSON data is a list, we append the new instance to it\n",
    "    #     data.append(name_instance)\n",
    "    # elif isinstance(data, dict):\n",
    "    #     # If the JSON data is a dictionary, we need to decide how to append.\n",
    "    #     # This will add a new key at the outermost level of the JSON structure.\n",
    "    #     data[username] = managers\n",
    "    # else:\n",
    "    #     raise TypeError(\"JSON data is neither a list nor a dictionary.\")\n",
    "\n",
    "    # # Write the modified data back to the file\n",
    "    # with open(file_path, 'w') as file:\n",
    "    #     json.dump(data, file, indent=4)\n",
    "    \n",
    "    return data\n",
    "\n",
    "# Example usage (this will not run here since it's just an example without a real file):\n",
    "updated_data = add_name_instance_to_json('client_facing_agents_hierarchy.json', 'joss.taylor', ['craig.stewart', 'sean.bailey', 'jack.ward'])\n",
    "print(updated_data)\n"
   ]
  },
  {
   "cell_type": "markdown",
   "metadata": {},
   "source": [
    "### Update Non-Client Facing Team"
   ]
  },
  {
   "cell_type": "code",
   "execution_count": 5,
   "metadata": {},
   "outputs": [
    {
     "name": "stdout",
     "output_type": "stream",
     "text": [
      "{'mick.adams': ['mick.adams', 'aaron.smith'], 'stan.myers': ['mick.adams', 'aaron.smith'], 'eric.ward': ['mick.adams', 'aaron.smith'], 'david.lee': ['mick.adams', 'aaron.smith'], 'caleb.wood': ['mick.adams', 'aaron.smith'], 'russell.reed': ['mick.adams', 'aaron.smith'], 'ron.davis': ['mick.adams', 'aaron.smith'], 'noah.smith': ['mick.adams', 'aaron.smith'], 'pat.rogers': ['mick.adams', 'aaron.smith'], 'aaron.smith': ['aaron.smith'], 'robert.freeman': ['robert.freeman'], 'ian.smith': ['robert.freeman'], 'emma.grant': ['robert.freeman'], 'jordan.moore': ['robert.freeman'], 'todd.francis': ['robert.freeman'], 'emily.wilson': ['robert.freeman'], 'stella.adams': ['robert.freeman'], 'sophia.foster': ['robert.freeman'], 'dana.wilson': ['robert.freeman'], 'ellie.young': ['robert.freeman'], 'albert.miles': ['albert.miles'], 'chad.myers': ['albert.miles'], 'harry.maxwell': ['albert.miles'], 'altaf.hussain': ['altaf.hussain'], 'joe.white': ['altaf.hussain', 'joe.white'], 'ralph.martin': ['altaf.hussain', 'joe.white'], 'terry.adams': ['altaf.hussain', 'joe.white'], 'daniel.green': ['altaf.hussain', 'joe.white'], 'ian.dawson': ['altaf.hussain', 'joe.white'], 'wayne.lee': ['altaf.hussain', 'joe.white'], 'jim.brown': ['altaf.hussain', 'joe.white'], 'martin.wilson': ['altaf.hussain', 'joe.white'], 'dexter.hill': ['dexter.hill'], 'austin.lee': ['dexter.hill'], 'steven.gill': ['dexter.hill'], 'barry.walker': ['dexter.hill'], 'larry.hill': ['dexter.hill'], 'michelle.reed': ['dexter.hill'], 'luke.mitchell': ['altaf.hussain']}\n"
     ]
    }
   ],
   "source": [
    "import json\n",
    "\n",
    "def add_name_instance_to_json(file_path, username, managers):\n",
    "    # Read the existing JSON file\n",
    "    with open(file_path, 'r') as file:\n",
    "        data = json.load(file)\n",
    "\n",
    "    # Add the new instance at the end with \"name\" key\n",
    "    name_instance = {username: managers}\n",
    "    if isinstance(data, list):\n",
    "        # If the JSON data is a list, we append the new instance to it\n",
    "        data.append(name_instance)\n",
    "    elif isinstance(data, dict):\n",
    "        # If the JSON data is a dictionary, we need to decide how to append.\n",
    "        # This will add a new key at the outermost level of the JSON structure.\n",
    "        data[username] = managers\n",
    "    else:\n",
    "        raise TypeError(\"JSON data is neither a list nor a dictionary.\")\n",
    "\n",
    "    # Write the modified data back to the file\n",
    "    with open(file_path, 'w') as file:\n",
    "        json.dump(data, file, indent=4)\n",
    "    \n",
    "    return data\n",
    "\n",
    "# Example usage (this will not run here since it's just an example without a real file):\n",
    "updated_data = add_name_instance_to_json('non_client_facing_agents_hierarchy.json', 'luke.mitchell', ['altaf.hussain'])\n",
    "print(updated_data)\n"
   ]
  },
  {
   "cell_type": "markdown",
   "metadata": {},
   "source": [
    "### Update Teams Data"
   ]
  },
  {
   "cell_type": "code",
   "execution_count": 2,
   "metadata": {},
   "outputs": [
    {
     "name": "stdout",
     "output_type": "stream",
     "text": [
      "dict_keys(['Credentialing', 'Patient Services', 'Provider Enrollments', 'Virtual Front Desk', 'PS-BD', 'QA Analyst', 'Implementation Team', 'Public Health', 'PM & Billing Support', 'Oncology Support', 'Integration', 'Electronic Health Record', 'Data Migration & Customization', 'Billing Client Management'])\n",
      "{'Credentialing': ['aaron.smith', 'mick.adams', 'eric.ward', 'caleb.wood', 'pat.rogers', 'stan.myers', 'russell.reed', 'ron.davis', 'david.lee', 'noah.smith', 'rachel.johnson', 'mark.weller'], 'Patient Services': ['emily.wilson', 'emma.grant', 'ian.smith', 'albert.miles', 'chad.myers', 'sophia.foster', 'harry.maxwell', 'todd.francis', 'robert.freeman', 'stella.adams', 'jordan.moore', 'ellie.young', 'dana.wilson', 'jasper.smith', 'travis.walker', 'ashley.taylor'], 'Provider Enrollments': ['ralph.martin', 'wayne.lee', 'altaf.hussain', 'daniel.green', 'terry.adams', 'ian.dawson', 'joe.white', 'martin.wilson', 'jim.brown', 'luke.mitchell'], 'Virtual Front Desk': ['austin.lee', 'dexter.hill', 'barry.walker', 'michelle.reed', 'steven.gill', 'larry.hill'], 'PS-BD': ['bruce.simmons', 'nathan.miller', 'josh.segal', 'richard.barr'], 'QA Analyst': ['lee.baker', 'ted.mills', 'henry.adams', 'maria.davis', 'gary.gatland', 'pete.rogers', 'imran.hussain', 'niven.cyril', 'mark.davis', 'liam.walker', 'phil.becker', 'gavin.jones', 'jerry.green', 'thomas.reed', 'bill.vance', 'wayne.reid', 'luke.parson', 'steve.andrews', 'dave.arnold', 'david.webb', 'emmet.zachary', 'dennis.wood', 'christy.wilson', 'alex.walker', 'kyle.bates', 'damien.sanders', 'arthur.cook', 'joe.myers', 'drew.morris', 'leo.hudson', 'stuart.jones', 'jared.holmes', 'adam.cook', 'max.gayle', 'justin.smith', 'ethan.rogers', 'andy.turner', 'paul.baker', 'glen.magro', 'fred.allen', 'daniel.watson'], 'Implementation Team': ['adam.cook', 'lee.baker', 'nate.miller', 'edward.fisher', 'eric.baker', 'andy.turner', 'nick.persky', 'haysam.wyne', 'steve.andrews', 'niven.cyril', 'john.green', 'owen.mitchell', 'dean.turner', 'spencer.hayes', 'glen.lawson'], 'Public Health': ['marcus.reed', 'chris.wood', 'jeremy.smith', 'blake.wright', 'simon.lee', 'patrick.baker', 'rex.larson', 'owen.adams', 'wendy.harrison'], 'PM & Billing Support': ['christy.wilson', 'phil.becker', 'thomas.reed', 'justin.smith', 'maria.davis', 'ethan.rogers', 'pete.rogers', 'joe.myers', 'luke.parson', 'brett.daniels', 'glen.magro', 'stuart.jones', 'jared.holmes'], 'Oncology Support': ['dale.thomas', 'troy.mason', 'tyler.cook', 'ben.fisher', 'alan.ford', 'jeff.smith', 'ethan.reynolds'], 'Integration': ['jack.ward', 'sean.bailey', 'mack.orlin', 'tim.reed', 'william.young', 'dan.mason', 'craig.stewart', 'finn.adams', 'brent.jones', 'terry.miller', 'grant.reed', 'reese.smith', 'joss.taylor', 'joss.taylor'], 'Electronic Health Record': ['peter.moore', 'colin.nelson', 'claire.mills', 'brian.shaw', 'zoe.morris', 'brad.collins', 'neil.banks', 'shane.newman', 'ryan.keller', 'samuel.gill', 'josh.greene', 'michael.baker', 'harry.sanders', 'adam.parker', 'jared.wilson', 'luke.harrison'], 'Data Migration & Customization': ['adam.cook', 'lee.baker', 'edward.fisher', 'andy.turner', 'steve.andrews', 'niven.cyril', 'jake.turner'], 'Billing Client Management': ['ted.mills', 'henry.adams', 'jake.hill', 'gary.gatland', 'mark.davis', 'liam.walker', 'gavin.jones', 'jerry.green', 'bill.vance', 'dylan.rogers', 'wayne.reid', 'dave.arnold', 'david.webb', 'emmet.zachary', 'dennis.wood', 'alex.walker', 'kyle.bates', 'damien.sanders', 'arthur.cook', 'frank.alven', 'drew.morris', 'leo.hudson', 'max.gayle', 'paul.baker', 'fred.allen', 'daniel.watson', 'seth.jones', 'scott.zane', 'jay.nelson', 'tom.anderson', 'michael.foster']}\n"
     ]
    }
   ],
   "source": [
    "# Here's a Python function that reads a JSON file, checks for a specified team name,\n",
    "# and adds a user name to that team's list.\n",
    "\n",
    "import json\n",
    "\n",
    "def add_user_to_team(file_path, team_name, user_name):\n",
    "    # Read the existing JSON file\n",
    "    with open(file_path, 'r') as file:\n",
    "        data = json.load(file)\n",
    "    \n",
    "    # Check if the team exists in the data and if not, create a new team list\n",
    "    # if team_name in data:\n",
    "    #     # Assuming each team is a list of users, append the new user name\n",
    "    #     data[team_name].append(user_name)\n",
    "    # else:\n",
    "    #     # Create a new team with the user\n",
    "    #     data[team_name] = [user_name]\n",
    "    \n",
    "    # # Write the modified data back to the file\n",
    "    # with open(file_path, 'w') as file:\n",
    "    #     json.dump(data, file, indent=4)\n",
    "    \n",
    "    return data\n",
    "\n",
    "# Example usage (this will not run here since it's just an example without a real file):\n",
    "updated_data = add_user_to_team('CS_Teams_Data.json', 'Credentialing', 'mark.weller')\n",
    "print(updated_data.keys())\n",
    "print(updated_data)\n"
   ]
  },
  {
   "cell_type": "code",
   "execution_count": 3,
   "metadata": {},
   "outputs": [
    {
     "name": "stdout",
     "output_type": "stream",
     "text": [
      "{'Credentialing': ['aaron.smith', 'mick.adams', 'eric.ward', 'caleb.wood', 'pat.rogers', 'stan.myers', 'russell.reed', 'ron.davis', 'david.lee', 'noah.smith', 'rachel.johnson', 'mark.weller'], 'Patient Services': ['emily.wilson', 'emma.grant', 'ian.smith', 'albert.miles', 'chad.myers', 'sophia.foster', 'harry.maxwell', 'todd.francis', 'robert.freeman', 'stella.adams', 'jordan.moore', 'ellie.young', 'dana.wilson', 'jasper.smith', 'travis.walker', 'ashley.taylor'], 'Provider Enrollments': ['ralph.martin', 'wayne.lee', 'altaf.hussain', 'daniel.green', 'terry.adams', 'ian.dawson', 'joe.white', 'martin.wilson', 'jim.brown', 'luke.mitchell'], 'Virtual Front Desk': ['austin.lee', 'dexter.hill', 'barry.walker', 'michelle.reed', 'steven.gill', 'larry.hill'], 'PS-BD': ['bruce.simmons', 'nathan.miller', 'josh.segal', 'richard.barr'], 'QA Analyst': ['lee.baker', 'ted.mills', 'henry.adams', 'maria.davis', 'gary.gatland', 'pete.rogers', 'imran.hussain', 'niven.cyril', 'mark.davis', 'liam.walker', 'phil.becker', 'gavin.jones', 'jerry.green', 'thomas.reed', 'bill.vance', 'wayne.reid', 'luke.parson', 'steve.andrews', 'dave.arnold', 'david.webb', 'emmet.zachary', 'dennis.wood', 'christy.wilson', 'alex.walker', 'kyle.bates', 'damien.sanders', 'arthur.cook', 'joe.myers', 'drew.morris', 'leo.hudson', 'stuart.jones', 'jared.holmes', 'adam.cook', 'max.gayle', 'justin.smith', 'ethan.rogers', 'andy.turner', 'paul.baker', 'glen.magro', 'fred.allen', 'daniel.watson'], 'Implementation Team': ['adam.cook', 'lee.baker', 'nate.miller', 'edward.fisher', 'eric.baker', 'andy.turner', 'nick.persky', 'haysam.wyne', 'steve.andrews', 'niven.cyril', 'john.green', 'owen.mitchell', 'dean.turner', 'spencer.hayes', 'glen.lawson'], 'Public Health': ['marcus.reed', 'chris.wood', 'jeremy.smith', 'blake.wright', 'simon.lee', 'patrick.baker', 'rex.larson', 'owen.adams', 'wendy.harrison'], 'PM & Billing Support': ['christy.wilson', 'phil.becker', 'thomas.reed', 'justin.smith', 'maria.davis', 'ethan.rogers', 'pete.rogers', 'joe.myers', 'luke.parson', 'brett.daniels', 'glen.magro', 'stuart.jones', 'jared.holmes'], 'Oncology Support': ['dale.thomas', 'troy.mason', 'tyler.cook', 'ben.fisher', 'alan.ford', 'jeff.smith', 'ethan.reynolds'], 'Integration': ['jack.ward', 'sean.bailey', 'mack.orlin', 'tim.reed', 'william.young', 'dan.mason', 'craig.stewart', 'finn.adams', 'brent.jones', 'terry.miller', 'grant.reed', 'reese.smith', 'joss.taylor'], 'Electronic Health Record': ['peter.moore', 'colin.nelson', 'claire.mills', 'brian.shaw', 'zoe.morris', 'brad.collins', 'neil.banks', 'shane.newman', 'ryan.keller', 'samuel.gill', 'josh.greene', 'michael.baker', 'harry.sanders', 'adam.parker', 'jared.wilson', 'luke.harrison'], 'Data Migration & Customization': ['adam.cook', 'lee.baker', 'edward.fisher', 'andy.turner', 'steve.andrews', 'niven.cyril', 'jake.turner'], 'Billing Client Management': ['ted.mills', 'henry.adams', 'jake.hill', 'gary.gatland', 'mark.davis', 'liam.walker', 'gavin.jones', 'jerry.green', 'bill.vance', 'dylan.rogers', 'wayne.reid', 'dave.arnold', 'david.webb', 'emmet.zachary', 'dennis.wood', 'alex.walker', 'kyle.bates', 'damien.sanders', 'arthur.cook', 'frank.alven', 'drew.morris', 'leo.hudson', 'max.gayle', 'paul.baker', 'fred.allen', 'daniel.watson', 'seth.jones', 'scott.zane', 'jay.nelson', 'tom.anderson', 'michael.foster']}\n"
     ]
    }
   ],
   "source": [
    "import json\n",
    "\n",
    "filename = 'CS_Teams_Data.json'\n",
    "\n",
    "with open(filename, 'r') as file:\n",
    "    data = json.load(file)\n",
    "\n",
    "key = 'Integration'\n",
    "\n",
    "if key in data and data[key]:\n",
    "    data[key].pop()\n",
    "\n",
    "with open(filename, 'w') as file:\n",
    "    json.dump(data, file, indent=4)\n",
    "\n",
    "print(data)"
   ]
  },
  {
   "cell_type": "code",
   "execution_count": null,
   "metadata": {},
   "outputs": [],
   "source": []
  }
 ],
 "metadata": {
  "kernelspec": {
   "display_name": "Python 3",
   "language": "python",
   "name": "python3"
  },
  "language_info": {
   "codemirror_mode": {
    "name": "ipython",
    "version": 3
   },
   "file_extension": ".py",
   "mimetype": "text/x-python",
   "name": "python",
   "nbconvert_exporter": "python",
   "pygments_lexer": "ipython3",
   "version": "3.8.10 (default, Nov 22 2023, 10:22:35) \n[GCC 9.4.0]"
  },
  "vscode": {
   "interpreter": {
    "hash": "916dbcbb3f70747c44a77c7bcd40155683ae19c65e1c03b4aa3499c5328201f1"
   }
  }
 },
 "nbformat": 4,
 "nbformat_minor": 2
}
